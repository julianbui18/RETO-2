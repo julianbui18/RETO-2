{
  "nbformat": 4,
  "nbformat_minor": 0,
  "metadata": {
    "colab": {
      "provenance": [],
      "authorship_tag": "ABX9TyMh/ovVIbYki6I+KxKCnsag",
      "include_colab_link": true
    },
    "kernelspec": {
      "name": "python3",
      "display_name": "Python 3"
    },
    "language_info": {
      "name": "python"
    }
  },
  "cells": [
    {
      "cell_type": "markdown",
      "metadata": {
        "id": "view-in-github",
        "colab_type": "text"
      },
      "source": [
        "<a href=\"https://colab.research.google.com/github/julianbui18/RETO-2/blob/main/REPORTE_4.ipynb\" target=\"_parent\"><img src=\"https://colab.research.google.com/assets/colab-badge.svg\" alt=\"Open In Colab\"/></a>"
      ]
    },
    {
      "cell_type": "markdown",
      "source": [
        "PUNTO 1"
      ],
      "metadata": {
        "id": "thWoI5zPdSCB"
      }
    },
    {
      "cell_type": "code",
      "execution_count": 5,
      "metadata": {
        "colab": {
          "base_uri": "https://localhost:8080/"
        },
        "id": "il1bwhFHdIpB",
        "outputId": "49ff5d02-ca6d-44db-dc4b-2413b00f5d11"
      },
      "outputs": [
        {
          "output_type": "stream",
          "name": "stdout",
          "text": [
            "Ingrese un número entero: 97\n",
            "El número corresponde a una vocal minúscula ASCII: a\n"
          ]
        }
      ],
      "source": [
        "numero : int\n",
        "numero = int(input(\"Ingrese un número entero: \"))\n",
        "if numero == ord('a') or numero == ord('e') or numero == ord('i') or numero == ord('o') or numero == ord('u'):\n",
        "  print(\"El número corresponde a una vocal minúscula ASCII:\", chr(numero))\n",
        "else:\n",
        "  print(\"El número no corresponde a una vocal minúscula ASCII\")"
      ]
    },
    {
      "cell_type": "markdown",
      "source": [
        "PUNTO 2"
      ],
      "metadata": {
        "id": "7Y9QZ1bAe-7R"
      }
    },
    {
      "cell_type": "code",
      "source": [
        "letra = input(\"Ingrese una sola letra una letra: \")\n",
        "codigo = ord(letra)\n",
        "print(\"El código ASCII es:\", codigo)\n",
        "if codigo % 2 == 0:\n",
        "  print(\"El código es par\")\n",
        "else:\n",
        "  print(\"El código es impar\")"
      ],
      "metadata": {
        "colab": {
          "base_uri": "https://localhost:8080/"
        },
        "id": "5drKes71fAxN",
        "outputId": "45cc840f-ca8f-433f-bbe3-81f1b2b76cef"
      },
      "execution_count": 14,
      "outputs": [
        {
          "output_type": "stream",
          "name": "stdout",
          "text": [
            "Ingrese una sola letra una letra: g\n",
            "El código ASCII es: 103\n",
            "El código es impar\n"
          ]
        }
      ]
    },
    {
      "cell_type": "markdown",
      "source": [
        "Punto 3"
      ],
      "metadata": {
        "id": "Zo7aiydsjD4F"
      }
    },
    {
      "cell_type": "code",
      "source": [
        "caracter = input(\"Ingrese un carácter: \")\n",
        "codigo = ord(caracter)\n",
        "if codigo >= ord('0') and codigo <= ord('9'):\n",
        "  print(\"Es un dígito\")\n",
        "else:\n",
        "  print(\"No es un dígito\")"
      ],
      "metadata": {
        "colab": {
          "base_uri": "https://localhost:8080/"
        },
        "id": "URmeYM4djFsT",
        "outputId": "cc296bb7-917a-441f-c75c-a5f2d23fef5a"
      },
      "execution_count": 25,
      "outputs": [
        {
          "output_type": "stream",
          "name": "stdout",
          "text": [
            "Ingrese un carácter: 8\n",
            "Es un dígito\n"
          ]
        }
      ]
    },
    {
      "cell_type": "markdown",
      "source": [
        "Punto 4"
      ],
      "metadata": {
        "id": "AFMUpIJBoaLs"
      }
    },
    {
      "cell_type": "code",
      "source": [],
      "metadata": {
        "id": "KsFFpxlBogY3"
      },
      "execution_count": null,
      "outputs": []
    }
  ]
}